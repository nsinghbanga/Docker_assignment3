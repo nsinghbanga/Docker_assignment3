{
 "cells": [
  {
   "cell_type": "code",
   "execution_count": 14,
   "metadata": {},
   "outputs": [
    {
     "name": "stdout",
     "output_type": "stream",
     "text": [
      "Enter first number: 1\n",
      "Enter second number: 2\n",
      "Enter third number: 3\n",
      "select operation: +, -, /, *: 4\n"
     ]
    },
    {
     "data": {
      "text/plain": [
       "'Invalid Operation'"
      ]
     },
     "execution_count": 14,
     "metadata": {},
     "output_type": "execute_result"
    }
   ],
   "source": [
    "def calculation():\n",
    "    a = int(input('Enter first number: '))\n",
    "    b = int(input('Enter second number: '))\n",
    "    c = int(input('Enter third number: '))\n",
    "    operation = input('select operation: +, -, /, *: ')\n",
    "    \n",
    "    if operation == '+':\n",
    "        result = a + b + c\n",
    "    elif operation == '-':\n",
    "        result = a - b - c\n",
    "    elif operation == '/':\n",
    "        result = a / b / c\n",
    "    elif operation == '*':\n",
    "        result = a* b * c\n",
    "    else:\n",
    "        result = 'Invalid Operation'\n",
    "    return result\n",
    "\n",
    "calculation()"
   ]
  },
  {
   "cell_type": "code",
   "execution_count": null,
   "metadata": {},
   "outputs": [],
   "source": []
  }
 ],
 "metadata": {
  "kernelspec": {
   "display_name": "Python 3",
   "language": "python",
   "name": "python3"
  },
  "language_info": {
   "codemirror_mode": {
    "name": "ipython",
    "version": 3
   },
   "file_extension": ".py",
   "mimetype": "text/x-python",
   "name": "python",
   "nbconvert_exporter": "python",
   "pygments_lexer": "ipython3",
   "version": "3.7.7"
  }
 },
 "nbformat": 4,
 "nbformat_minor": 4
}
